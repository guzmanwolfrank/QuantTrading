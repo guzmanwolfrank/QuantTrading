{
 "cells": [
  {
   "cell_type": "code",
   "execution_count": 20,
   "metadata": {},
   "outputs": [],
   "source": [
    "import oandapyV20.endpoints.instruments as instruments\n",
    "import oandapyV20.endpoints.pricing as pricing\n",
    "import oandapyV20.endpoints.orders as orders\n",
    "import oandapyV20.endpoints.trades as trades\n",
    "import pandas as pd\n",
    "import oandapyV20 "
   ]
  },
  {
   "cell_type": "code",
   "execution_count": 21,
   "metadata": {},
   "outputs": [],
   "source": [
    "\n",
    "# Account information\n",
    "OANDA_ACCESS_TOKEN = \"987464a00c47a9b186fcc7a93a9404a6-bf2ecb97ae681e4edeb529adef404b09\"\n",
    "ACCOUNT_ID = \"101-001-8028197-001\"\n",
    "\n",
    "access_token = OANDA_ACCESS_TOKEN\n",
    "accountID = ACCOUNT_ID\n",
    "\n",
    "client = oandapyV20.API(access_token=access_token)"
   ]
  },
  {
   "cell_type": "code",
   "execution_count": 22,
   "metadata": {},
   "outputs": [],
   "source": [
    "# Instrument (USDJPY)\n",
    "instrument = \"USD_JPY\"\n",
    "\n",
    "# Granularity (daily)\n",
    "granularity = \"D\"\n",
    "\n",
    "# Moving average periods\n",
    "short_ma_period = 2\n",
    "long_ma_period = 10\n",
    "\n",
    "# Risk management\n",
    "stop_loss_pips = 30\n",
    "take_profit_pips = 60\n"
   ]
  },
  {
   "cell_type": "code",
   "execution_count": 23,
   "metadata": {},
   "outputs": [
    {
     "name": "stdout",
     "output_type": "stream",
     "text": [
      "                              open     high      low    close\n",
      "time                                                         \n",
      "2022-01-02 22:00:00+00:00  115.118  115.370  114.950  115.350\n",
      "2022-01-03 22:00:00+00:00  115.328  116.352  115.292  116.148\n",
      "2022-01-04 22:00:00+00:00  116.102  116.244  115.621  116.105\n",
      "2022-01-05 22:00:00+00:00  116.119  116.186  115.625  115.844\n",
      "2022-01-06 22:00:00+00:00  115.852  116.048  115.540  115.549\n",
      "...                            ...      ...      ...      ...\n",
      "2022-12-22 22:00:00+00:00  132.416  133.145  132.154  132.827\n",
      "2022-12-26 22:00:00+00:00  132.857  133.598  132.634  133.506\n",
      "2022-12-27 22:00:00+00:00  133.490  134.500  133.396  134.486\n",
      "2022-12-28 22:00:00+00:00  134.478  134.478  132.880  133.026\n",
      "2022-12-29 22:00:00+00:00  133.031  133.097  130.771  131.101\n",
      "\n",
      "[259 rows x 4 columns]\n"
     ]
    }
   ],
   "source": [
    "\n",
    "# OANDA API connection setup\n",
    "api = API(access_token=API_KEY, environment=\"practice\")\n",
    "\n",
    "# Function to fetch historical data\n",
    "def get_historical_data(instrument, granularity, start, end):\n",
    "    params = {\n",
    "        \"granularity\": granularity,\n",
    "        \"from\": start,\n",
    "        \"to\": end,\n",
    "    }\n",
    "    request = instruments.InstrumentsCandles(instrument=instrument, params=params)\n",
    "    response = api.request(request)\n",
    "    data = response['candles']\n",
    "    ohlc_data = [{'time': candle['time'], 'open': float(candle['mid']['o']), 'high': float(candle['mid']['h']),\n",
    "                  'low': float(candle['mid']['l']), 'close': float(candle['mid']['c'])} for candle in data]\n",
    "    df = pd.DataFrame(ohlc_data)\n",
    "    df['time'] = pd.to_datetime(df['time'])\n",
    "    df.set_index('time', inplace=True)\n",
    "    return df\n",
    "\n",
    "# Define the instrument, granularity, and date range\n",
    "instrument = 'USD_JPY'\n",
    "granularity = 'D'  # Daily data\n",
    "start_date = '2022-01-01T00:00:00Z'\n",
    "end_date = '2023-01-01T00:00:00Z'\n",
    "\n",
    "# Fetch historical data\n",
    "historical_data = get_historical_data(instrument, granularity, start_date, end_date)\n",
    "\n",
    "# Print the fetched data\n",
    "print(historical_data)\n"
   ]
  }
 ],
 "metadata": {
  "kernelspec": {
   "display_name": "Python 3",
   "language": "python",
   "name": "python3"
  },
  "language_info": {
   "codemirror_mode": {
    "name": "ipython",
    "version": 3
   },
   "file_extension": ".py",
   "mimetype": "text/x-python",
   "name": "python",
   "nbconvert_exporter": "python",
   "pygments_lexer": "ipython3",
   "version": "3.11.3"
  }
 },
 "nbformat": 4,
 "nbformat_minor": 2
}
