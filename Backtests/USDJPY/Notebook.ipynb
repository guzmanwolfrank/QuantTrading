{
 "cells": [
  {
   "cell_type": "code",
   "execution_count": null,
   "metadata": {},
   "outputs": [],
   "source": [
    "import oandapyV20.endpoints.instruments as instruments\n",
    "import oandapyV20.endpoints.pricing as pricing\n",
    "import oandapyV20.endpoints.orders as orders\n",
    "import oandapyV20.endpoints.trades as trades\n",
    "import pandas as pd\n",
    "import oandapyV20 "
   ]
  },
  {
   "cell_type": "code",
   "execution_count": null,
   "metadata": {},
   "outputs": [],
   "source": [
    "# Account information\n",
    "OANDA_ACCESS_TOKEN = \"987464a00c47a9b186fcc7a93a9404a6-bf2ecb97ae681e4edeb529adef404b09\"\n",
    "ACCOUNT_ID = \"101-001-8028197-001\"\n",
    "access_token = OANDA_ACCESS_TOKEN\n",
    "accountID = ACCOUNT_ID\n",
    "client = oandapyV20.API(access_token=access_token)"
   ]
  },
  {
   "cell_type": "code",
   "execution_count": null,
   "metadata": {},
   "outputs": [],
   "source": [
    "# Instrument (USDJPY)\n",
    "instrument = \"USD_JPY\"\n",
    "\n",
    "# Granularity (daily)\n",
    "granularity = \"D\"\n",
    "\n",
    "# Moving average periods\n",
    "short_ma_period = 2\n",
    "long_ma_period = 10\n",
    "\n",
    "# Risk management\n",
    "stop_loss_pips = 30\n",
    "take_profit_pips = 60\n"
   ]
  },
  {
   "cell_type": "code",
   "execution_count": null,
   "metadata": {},
   "outputs": [],
   "source": [
    "\n",
    "# OANDA API connection setup\n",
    "api = API(access_token=API_KEY, environment=\"practice\")\n",
    "\n",
    "# Function to fetch historical data\n",
    "def get_historical_data(instrument, granularity, start, end):\n",
    "    params = {\n",
    "        \"granularity\": granularity,\n",
    "        \"from\": start,\n",
    "        \"to\": end,\n",
    "    }\n",
    "    request = instruments.InstrumentsCandles(instrument=instrument, params=params)\n",
    "    response = api.request(request)\n",
    "    data = response['candles']\n",
    "    ohlc_data = [{'time': candle['time'], 'open': float(candle['mid']['o']), 'high': float(candle['mid']['h']),\n",
    "                  'low': float(candle['mid']['l']), 'close': float(candle['mid']['c'])} for candle in data]\n",
    "    df = pd.DataFrame(ohlc_data)\n",
    "    df['time'] = pd.to_datetime(df['time'])\n",
    "    df.set_index('time', inplace=True)\n",
    "    return df\n",
    "\n",
    "# Define the instrument, granularity, and date range\n",
    "instrument = 'USD_JPY'\n",
    "granularity = 'D'  # Daily data\n",
    "start_date = '2022-01-01T00:00:00Z'\n",
    "end_date = '2023-01-01T00:00:00Z'\n",
    "\n",
    "# Fetch historical data\n",
    "historical_data = get_historical_data(instrument, granularity, start_date, end_date)\n",
    "data = historical_data\n",
    "# Print the fetched data\n",
    "#print(historical_data)\n",
    "#display (data)"
   ]
  },
  {
   "cell_type": "code",
   "execution_count": null,
   "metadata": {},
   "outputs": [],
   "source": [
    "# Add on to Data Dataframe for Profit, Units, Balance, 2 day moving average, 10 day moving average \n",
    "\n",
    "# Pivot calculation \n",
    "pivot= ((data['open']+data ['low'] + data['close'])/3)\n",
    "data['pivot'] = pivot          \n",
    "data['previous_pivot'] = data['pivot'].shift(1)\n",
    "\n",
    "# Create a Signal column with 1, whenever the previous pivot is less than current open \n",
    "data.loc[data['previous_pivot'] < data['open'], 'Signal'] = 1\n",
    "\n",
    "display(data)\n"
   ]
  },
  {
   "cell_type": "code",
   "execution_count": null,
   "metadata": {},
   "outputs": [],
   "source": [
    "# Only show days with signal generated \n",
    "data[data['Signal'] == 1]\n",
    "df = data    \n",
    "# drop any NAN or NA values, filter the list of trades \n",
    "df = df.dropna()      \n",
    "display(df)"
   ]
  },
  {
   "cell_type": "code",
   "execution_count": null,
   "metadata": {},
   "outputs": [],
   "source": [
    "# Here we create the buy order \n",
    "# If signal 1, Buy X amount of Units, Declare Stop loss and profit target, calculate returns, balance and profit "
   ]
  }
 ],
 "metadata": {
  "kernelspec": {
   "display_name": "Python 3",
   "language": "python",
   "name": "python3"
  },
  "language_info": {
   "codemirror_mode": {
    "name": "ipython",
    "version": 3
   },
   "file_extension": ".py",
   "mimetype": "text/x-python",
   "name": "python",
   "nbconvert_exporter": "python",
   "pygments_lexer": "ipython3",
   "version": "3.11.3"
  }
 },
 "nbformat": 4,
 "nbformat_minor": 2
}
