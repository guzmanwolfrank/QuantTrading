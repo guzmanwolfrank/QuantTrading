{
 "cells": [
  {
   "cell_type": "code",
   "execution_count": 11,
   "metadata": {},
   "outputs": [],
   "source": [
    "import oandapyV20.endpoints.instruments as instruments\n",
    "import oandapyV20.endpoints.pricing as pricing\n",
    "import oandapyV20.endpoints.orders as orders\n",
    "import oandapyV20.endpoints.trades as trades\n",
    "import pandas as pd\n",
    "import oandapyV20 "
   ]
  },
  {
   "cell_type": "code",
   "execution_count": 12,
   "metadata": {},
   "outputs": [],
   "source": [
    "\n",
    "# Account information\n",
    "OANDA_ACCESS_TOKEN = \"987464a00c47a9b186fcc7a93a9404a6-bf2ecb97ae681e4edeb529adef404b09\"\n",
    "ACCOUNT_ID = \"101-001-8028197-001\"\n",
    "\n",
    "access_token = OANDA_ACCESS_TOKEN\n",
    "accountID = ACCOUNT_ID\n",
    "\n",
    "client = oandapyV20.API(access_token=access_token)"
   ]
  },
  {
   "cell_type": "code",
   "execution_count": 13,
   "metadata": {},
   "outputs": [],
   "source": [
    "# Instrument (USDJPY)\n",
    "instrument = \"USD_JPY\"\n",
    "\n",
    "# Granularity (daily)\n",
    "granularity = \"D\"\n",
    "\n",
    "# Moving average periods\n",
    "short_ma_period = 2\n",
    "long_ma_period = 10\n",
    "\n",
    "# Risk management\n",
    "stop_loss_pips = 30\n",
    "take_profit_pips = 60\n"
   ]
  },
  {
   "cell_type": "code",
   "execution_count": 19,
   "metadata": {},
   "outputs": [
    {
     "name": "stdout",
     "output_type": "stream",
     "text": [
      "                              open     high      low    close\n",
      "time                                                         \n",
      "2006-11-16 22:00:00+00:00  118.220  118.462  117.521  117.755\n",
      "2006-11-18 22:00:00+00:00  117.775  117.970  117.650  117.865\n",
      "2006-11-19 22:00:00+00:00  117.860  118.192  117.795  118.047\n",
      "2006-11-20 22:00:00+00:00  118.057  118.255  117.751  117.904\n",
      "2006-11-21 22:00:00+00:00  117.894  117.915  116.375  116.751\n",
      "...                            ...      ...      ...      ...\n",
      "2024-01-29 22:00:00+00:00  147.415  147.928  147.098  147.609\n",
      "2024-01-30 22:00:00+00:00  147.587  147.902  146.012  146.965\n",
      "2024-01-31 22:00:00+00:00  146.978  147.118  145.898  146.418\n",
      "2024-02-01 22:00:00+00:00  146.401  148.587  146.243  148.382\n",
      "2024-02-04 22:00:00+00:00  148.431  148.894  148.268  148.624\n",
      "\n",
      "[5000 rows x 4 columns]\n"
     ]
    }
   ],
   "source": [
    "\n",
    "\n",
    "# OANDA API connection setup\n",
    "api = API(access_token=API_KEY, environment=\"practice\")\n",
    "\n",
    "# Function to fetch historical data\n",
    "def get_historical_data(instrument, granularity, count):\n",
    "    params = {\n",
    "        \"count\": count,\n",
    "        \"granularity\": granularity,\n",
    "    }\n",
    "    request = instruments.InstrumentsCandles(instrument=instrument, params=params)\n",
    "    response = api.request(request)\n",
    "    data = response['candles']\n",
    "    ohlc_data = [{'time': candle['time'], 'open': float(candle['mid']['o']), 'high': float(candle['mid']['h']),\n",
    "                  'low': float(candle['mid']['l']), 'close': float(candle['mid']['c'])} for candle in data]\n",
    "    df = pd.DataFrame(ohlc_data)\n",
    "    df['time'] = pd.to_datetime(df['time'])\n",
    "    df.set_index('time', inplace=True)\n",
    "    return df\n",
    "\n",
    "# Define the instrument, granularity, and count\n",
    "instrument = 'USD_JPY'\n",
    "granularity = 'D'  # Daily data\n",
    "count = 5000  # Maximum number of candles to retrieve\n",
    "\n",
    "# Fetch historical data\n",
    "historical_data = get_historical_data(instrument, granularity, count)\n",
    "\n",
    "# Print the fetched data\n",
    "print(historical_data)\n"
   ]
  }
 ],
 "metadata": {
  "kernelspec": {
   "display_name": "Python 3",
   "language": "python",
   "name": "python3"
  },
  "language_info": {
   "codemirror_mode": {
    "name": "ipython",
    "version": 3
   },
   "file_extension": ".py",
   "mimetype": "text/x-python",
   "name": "python",
   "nbconvert_exporter": "python",
   "pygments_lexer": "ipython3",
   "version": "3.11.3"
  }
 },
 "nbformat": 4,
 "nbformat_minor": 2
}
