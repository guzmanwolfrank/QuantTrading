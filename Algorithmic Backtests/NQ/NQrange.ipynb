{
 "cells": [
  {
   "cell_type": "code",
   "execution_count": 11,
   "metadata": {},
   "outputs": [
    {
     "name": "stdout",
     "output_type": "stream",
     "text": [
      "[*********************100%***********************]  1 of 1 completed\n"
     ]
    }
   ],
   "source": [
    "import yfinance as yf\n",
    "import quantstats as qs\n",
    "import pandas as pd\n",
    "import warnings\n",
    "\n",
    "# Ignore all warnings\n",
    "warnings.filterwarnings('ignore')\n",
    "\n",
    "# Set the ticker symbol and time period\n",
    "ticker_symbol = \"MNQ=F\"\n",
    "start_date = \"2024-03-01\"\n",
    "end_date = \"2024-03-11\"\n",
    "\n",
    "# Fetch intraday data using yfinance for the last 10 days with 15-minute intervals\n",
    "data = yf.download(ticker_symbol, period=\"30d\", interval=\"15m\").round(2)"
   ]
  },
  {
   "cell_type": "code",
   "execution_count": 12,
   "metadata": {},
   "outputs": [
    {
     "name": "stdout",
     "output_type": "stream",
     "text": [
      "[*********************100%***********************]  1 of 1 completed\n",
      "Average Range for the first 45 minutes: 986.00 points\n"
     ]
    }
   ],
   "source": [
    "\n",
    "\n",
    "def calculate_average_range(data):\n",
    "    trading_start_time = pd.to_datetime(\"09:30\").time()\n",
    "    trading_end_time = pd.to_datetime(\"10:15\").time()\n",
    "\n",
    "    trading_data = data.between_time(trading_start_time, trading_end_time)\n",
    "\n",
    "    high_price = trading_data['High'].max()\n",
    "    low_price = trading_data['Low'].min()\n",
    "\n",
    "    average_range = high_price - low_price\n",
    "    return average_range\n",
    "\n",
    "def backtest(data):\n",
    "    trading_start_time = pd.to_datetime(\"09:30\").time()\n",
    "\n",
    "    # Filter data for trading hours\n",
    "    data = data[data.index.time >= trading_start_time]\n",
    "\n",
    "    # Calculate average range\n",
    "    average_range = calculate_average_range(data)\n",
    "\n",
    "    # Print the result\n",
    "    print(f\"Average Range for the first 45 minutes: {average_range:.2f} points\")\n",
    "\n",
    "# Fetch NQ futures data for the last month with 15-minute intervals\n",
    "symbol = \"MNQ=F\"\n",
    "data = yf.download(symbol, period=\"30d\", interval=\"15m\")\n",
    "\n",
    "# Run the backtest\n",
    "backtest(data)\n"
   ]
  }
 ],
 "metadata": {
  "kernelspec": {
   "display_name": "Python 3",
   "language": "python",
   "name": "python3"
  },
  "language_info": {
   "codemirror_mode": {
    "name": "ipython",
    "version": 3
   },
   "file_extension": ".py",
   "mimetype": "text/x-python",
   "name": "python",
   "nbconvert_exporter": "python",
   "pygments_lexer": "ipython3",
   "version": "3.11.3"
  }
 },
 "nbformat": 4,
 "nbformat_minor": 2
}
