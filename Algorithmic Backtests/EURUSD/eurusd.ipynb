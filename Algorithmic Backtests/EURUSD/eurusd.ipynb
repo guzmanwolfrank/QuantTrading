{
 "cells": [
  {
   "cell_type": "code",
   "execution_count": 5,
   "metadata": {},
   "outputs": [
    {
     "name": "stderr",
     "output_type": "stream",
     "text": [
      "[*********************100%%**********************]  1 of 1 completed\n"
     ]
    },
    {
     "ename": "TypeError",
     "evalue": "'>' not supported between instances of 'Timestamp' and 'int'",
     "output_type": "error",
     "traceback": [
      "\u001b[1;31m---------------------------------------------------------------------------\u001b[0m",
      "\u001b[1;31mTypeError\u001b[0m                                 Traceback (most recent call last)",
      "Cell \u001b[1;32mIn[5], line 14\u001b[0m\n\u001b[0;32m      9\u001b[0m daily_returns_df \u001b[38;5;241m=\u001b[39m pd\u001b[38;5;241m.\u001b[39mDataFrame(daily_returns)\n\u001b[0;32m     11\u001b[0m \u001b[38;5;66;03m# ... (rest of the code calculating performance metrics remains the same)\u001b[39;00m\n\u001b[0;32m     12\u001b[0m \n\u001b[0;32m     13\u001b[0m \u001b[38;5;66;03m# Generate HTML report (assuming a benchmark named 'SPY')\u001b[39;00m\n\u001b[1;32m---> 14\u001b[0m \u001b[43mqs\u001b[49m\u001b[38;5;241;43m.\u001b[39;49m\u001b[43mreports\u001b[49m\u001b[38;5;241;43m.\u001b[39;49m\u001b[43mhtml\u001b[49m\u001b[43m(\u001b[49m\u001b[43mdaily_returns_df\u001b[49m\u001b[43m,\u001b[49m\u001b[43m \u001b[49m\u001b[43mbenchmark\u001b[49m\u001b[38;5;241;43m=\u001b[39;49m\u001b[38;5;124;43m\"\u001b[39;49m\u001b[38;5;124;43mSPY\u001b[39;49m\u001b[38;5;124;43m\"\u001b[39;49m\u001b[43m,\u001b[49m\u001b[43m \u001b[49m\u001b[43mtitle\u001b[49m\u001b[38;5;241;43m=\u001b[39;49m\u001b[38;5;124;43m\"\u001b[39;49m\u001b[38;5;124;43mSample Portfolio Performance\u001b[39;49m\u001b[38;5;124;43m\"\u001b[39;49m\u001b[43m)\u001b[49m\n\u001b[0;32m     16\u001b[0m \u001b[38;5;28mprint\u001b[39m(\u001b[38;5;124m\"\u001b[39m\u001b[38;5;124mHTML report generated!\u001b[39m\u001b[38;5;124m\"\u001b[39m)\n",
      "File \u001b[1;32mc:\\Users\\wolfr\\Desktop\\Ghostlab\\QuantTrading\\.venv\\Lib\\site-packages\\quantstats\\reports.py:108\u001b[0m, in \u001b[0;36mhtml\u001b[1;34m(returns, benchmark, rf, grayscale, title, output, compounded, periods_per_year, download_filename, figfmt, template_path, match_dates, **kwargs)\u001b[0m\n\u001b[0;32m    106\u001b[0m     benchmark \u001b[38;5;241m=\u001b[39m _utils\u001b[38;5;241m.\u001b[39m_prepare_benchmark(benchmark, returns\u001b[38;5;241m.\u001b[39mindex, rf)\n\u001b[0;32m    107\u001b[0m     \u001b[38;5;28;01mif\u001b[39;00m match_dates \u001b[38;5;129;01mis\u001b[39;00m \u001b[38;5;28;01mTrue\u001b[39;00m:\n\u001b[1;32m--> 108\u001b[0m         returns, benchmark \u001b[38;5;241m=\u001b[39m \u001b[43m_match_dates\u001b[49m\u001b[43m(\u001b[49m\u001b[43mreturns\u001b[49m\u001b[43m,\u001b[49m\u001b[43m \u001b[49m\u001b[43mbenchmark\u001b[49m\u001b[43m)\u001b[49m\n\u001b[0;32m    109\u001b[0m \u001b[38;5;28;01melse\u001b[39;00m:\n\u001b[0;32m    110\u001b[0m     benchmark_title \u001b[38;5;241m=\u001b[39m \u001b[38;5;28;01mNone\u001b[39;00m\n",
      "File \u001b[1;32mc:\\Users\\wolfr\\Desktop\\Ghostlab\\QuantTrading\\.venv\\Lib\\site-packages\\quantstats\\reports.py:45\u001b[0m, in \u001b[0;36m_match_dates\u001b[1;34m(returns, benchmark)\u001b[0m\n\u001b[0;32m     43\u001b[0m \u001b[38;5;28;01mdef\u001b[39;00m \u001b[38;5;21m_match_dates\u001b[39m(returns, benchmark):\n\u001b[0;32m     44\u001b[0m     \u001b[38;5;28;01mif\u001b[39;00m \u001b[38;5;28misinstance\u001b[39m(returns, _pd\u001b[38;5;241m.\u001b[39mDataFrame):\n\u001b[1;32m---> 45\u001b[0m         loc \u001b[38;5;241m=\u001b[39m \u001b[38;5;28;43mmax\u001b[39;49m\u001b[43m(\u001b[49m\u001b[43mreturns\u001b[49m\u001b[43m[\u001b[49m\u001b[43mreturns\u001b[49m\u001b[38;5;241;43m.\u001b[39;49m\u001b[43mcolumns\u001b[49m\u001b[43m[\u001b[49m\u001b[38;5;241;43m0\u001b[39;49m\u001b[43m]\u001b[49m\u001b[43m]\u001b[49m\u001b[38;5;241;43m.\u001b[39;49m\u001b[43mne\u001b[49m\u001b[43m(\u001b[49m\u001b[38;5;241;43m0\u001b[39;49m\u001b[43m)\u001b[49m\u001b[38;5;241;43m.\u001b[39;49m\u001b[43midxmax\u001b[49m\u001b[43m(\u001b[49m\u001b[43m)\u001b[49m\u001b[43m,\u001b[49m\u001b[43m \u001b[49m\u001b[43mbenchmark\u001b[49m\u001b[38;5;241;43m.\u001b[39;49m\u001b[43mne\u001b[49m\u001b[43m(\u001b[49m\u001b[38;5;241;43m0\u001b[39;49m\u001b[43m)\u001b[49m\u001b[38;5;241;43m.\u001b[39;49m\u001b[43midxmax\u001b[49m\u001b[43m(\u001b[49m\u001b[43m)\u001b[49m\u001b[43m)\u001b[49m\n\u001b[0;32m     46\u001b[0m     \u001b[38;5;28;01melse\u001b[39;00m:\n\u001b[0;32m     47\u001b[0m         loc \u001b[38;5;241m=\u001b[39m \u001b[38;5;28mmax\u001b[39m(returns\u001b[38;5;241m.\u001b[39mne(\u001b[38;5;241m0\u001b[39m)\u001b[38;5;241m.\u001b[39midxmax(), benchmark\u001b[38;5;241m.\u001b[39mne(\u001b[38;5;241m0\u001b[39m)\u001b[38;5;241m.\u001b[39midxmax())\n",
      "\u001b[1;31mTypeError\u001b[0m: '>' not supported between instances of 'Timestamp' and 'int'"
     ]
    }
   ],
   "source": [
    "import numpy as np\n",
    "import pandas as pd\n",
    "import quantstats as qs\n",
    "\n",
    "# Sample daily returns\n",
    "daily_returns = np.random.randn(100)  # Randomly generated daily returns\n",
    "\n",
    "# Convert NumPy array to Pandas DataFrame\n",
    "daily_returns_df = pd.DataFrame(daily_returns)\n",
    "\n",
    "# ... (rest of the code calculating performance metrics remains the same)\n",
    "\n",
    "# Generate HTML report (assuming a benchmark named 'SPY')\n",
    "qs.reports.html(daily_returns_df, benchmark=\"SPY\", title=\"Sample Portfolio Performance\")\n",
    "\n",
    "print(\"HTML report generated!\")\n"
   ]
  }
 ],
 "metadata": {
  "kernelspec": {
   "display_name": "Python 3",
   "language": "python",
   "name": "python3"
  },
  "language_info": {
   "codemirror_mode": {
    "name": "ipython",
    "version": 3
   },
   "file_extension": ".py",
   "mimetype": "text/x-python",
   "name": "python",
   "nbconvert_exporter": "python",
   "pygments_lexer": "ipython3",
   "version": "3.12.4"
  }
 },
 "nbformat": 4,
 "nbformat_minor": 2
}
