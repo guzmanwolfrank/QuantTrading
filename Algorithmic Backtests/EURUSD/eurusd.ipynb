{
 "cells": [
  {
   "cell_type": "code",
   "execution_count": 4,
   "metadata": {},
   "outputs": [
    {
     "name": "stderr",
     "output_type": "stream",
     "text": [
      "[*********************100%%**********************]  1 of 1 completed\n"
     ]
    },
    {
     "name": "stdout",
     "output_type": "stream",
     "text": [
      "Final Balance: $11348.10\n",
      "Total Return: 13.48%\n",
      "Number of Trades: 264\n",
      "\n",
      "Output files:\n",
      "1. Performance Report: c:\\Users\\Wolfrank\\Desktop\\CodeWolf\\QuantTrading\\Algorithmic Backtests\\QuantTrading\\Algorithmic Backtests\\EURUSD\\eur_usd_backtest_report.html\n",
      "2. Trades CSV: c:\\Users\\Wolfrank\\Desktop\\CodeWolf\\QuantTrading\\Algorithmic Backtests\\QuantTrading\\Algorithmic Backtests\\EURUSD\\eur_usd_trades.csv\n"
     ]
    }
   ],
   "source": [
    "import pandas as pd\n",
    "import numpy as np\n",
    "import yfinance as yf\n",
    "import quantstats as qs\n",
    "import os\n",
    "import warnings \n",
    "\n",
    "# suppress all warnings\n",
    "warnings.filterwarnings('ignore')\n",
    "\n",
    "\n",
    "# Fetch historical data\n",
    "symbol = \"EURUSD=X\"\n",
    "start_date = \"2020-01-01\"\n",
    "end_date = \"2023-12-31\"\n",
    "\n",
    "df = yf.download(symbol, start=start_date, end=end_date)\n",
    "\n",
    "# Strategy implementation\n",
    "df['signal'] = np.where(df['Open'] > df['Close'].shift(1), 1, 0)\n",
    "\n",
    "# Backtesting\n",
    "initial_balance = 10000\n",
    "balance = initial_balance\n",
    "position = 0\n",
    "trades = []\n",
    "\n",
    "for i in range(1, len(df)):\n",
    "    if position == 0 and df['signal'].iloc[i] == 1:\n",
    "        entry_price = df['Open'].iloc[i]\n",
    "        stop_loss = entry_price - 0.0020  # 20 pips\n",
    "        take_profit = entry_price + 0.0045  # 45 pips\n",
    "        position = 1\n",
    "    \n",
    "    elif position == 1:\n",
    "        current_price = df['Close'].iloc[i]\n",
    "        if current_price <= stop_loss or current_price >= take_profit:\n",
    "            exit_price = current_price\n",
    "            pnl = (exit_price - entry_price) * 10000  # Convert to pips\n",
    "            balance += pnl\n",
    "            trades.append({\n",
    "                'entry_date': df.index[i-1],\n",
    "                'exit_date': df.index[i],\n",
    "                'entry_price': entry_price,\n",
    "                'exit_price': exit_price,\n",
    "                'pnl': pnl\n",
    "            })\n",
    "            position = 0\n",
    "\n",
    "# Create trades DataFrame\n",
    "trades_df = pd.DataFrame(trades)\n",
    "trades_df.set_index('entry_date', inplace=True)\n",
    "\n",
    "# Calculate returns\n",
    "trades_df['returns'] = trades_df['pnl'] / initial_balance\n",
    "\n",
    "# Generate performance report\n",
    "report_filename = 'eur_usd_backtest_report.html'\n",
    "qs.reports.html(trades_df['returns'], output=report_filename)\n",
    "\n",
    "# Save trades DataFrame to CSV\n",
    "csv_filename = 'eur_usd_trades.csv'\n",
    "trades_df.to_csv(csv_filename)\n",
    "\n",
    "print(f\"Final Balance: ${balance:.2f}\")\n",
    "print(f\"Total Return: {(balance - initial_balance) / initial_balance:.2%}\")\n",
    "print(f\"Number of Trades: {len(trades)}\")\n",
    "\n",
    "# Show output file locations\n",
    "print(\"\\nOutput files:\")\n",
    "print(f\"1. Performance Report: {os.path.abspath(report_filename)}\")\n",
    "print(f\"2. Trades CSV: {os.path.abspath(csv_filename)}\")"
   ]
  }
 ],
 "metadata": {
  "kernelspec": {
   "display_name": "Python 3",
   "language": "python",
   "name": "python3"
  },
  "language_info": {
   "codemirror_mode": {
    "name": "ipython",
    "version": 3
   },
   "file_extension": ".py",
   "mimetype": "text/x-python",
   "name": "python",
   "nbconvert_exporter": "python",
   "pygments_lexer": "ipython3",
   "version": "3.11.3"
  }
 },
 "nbformat": 4,
 "nbformat_minor": 2
}
