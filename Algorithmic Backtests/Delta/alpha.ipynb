{
 "cells": [
  {
   "cell_type": "markdown",
   "metadata": {},
   "source": [
    "markdown\n"
   ]
  },
  {
   "cell_type": "code",
   "execution_count": 2,
   "metadata": {},
   "outputs": [],
   "source": [
    "#Imports\n",
    "import yfinance as yf\n",
    "import pandas as pd\n",
    "import numpy as np\n",
    "import seaborn as sns\n",
    "import matplotlib.pyplot as plt\n",
    "from datetime import datetime, timedelta\n",
    "import math\n",
    "from pathlib import Path"
   ]
  },
  {
   "cell_type": "code",
   "execution_count": 3,
   "metadata": {},
   "outputs": [
    {
     "name": "stderr",
     "output_type": "stream",
     "text": [
      "[*********************100%%**********************]  1 of 1 completed\n"
     ]
    }
   ],
   "source": [
    "eurusd = yf.download('EURUSD=X', \n",
    "                     start='2023-11-16',  # adjust date as needed\n",
    "                     end='2024-11-16',    # adjust date as needed\n",
    "                     interval='1h')"
   ]
  },
  {
   "cell_type": "code",
   "execution_count": 5,
   "metadata": {},
   "outputs": [
    {
     "data": {
      "text/html": [
       "<div>\n",
       "<style scoped>\n",
       "    .dataframe tbody tr th:only-of-type {\n",
       "        vertical-align: middle;\n",
       "    }\n",
       "\n",
       "    .dataframe tbody tr th {\n",
       "        vertical-align: top;\n",
       "    }\n",
       "\n",
       "    .dataframe thead th {\n",
       "        text-align: right;\n",
       "    }\n",
       "</style>\n",
       "<table border=\"1\" class=\"dataframe\">\n",
       "  <thead>\n",
       "    <tr style=\"text-align: right;\">\n",
       "      <th></th>\n",
       "      <th>Open</th>\n",
       "      <th>High</th>\n",
       "      <th>Low</th>\n",
       "      <th>Close</th>\n",
       "      <th>Adj Close</th>\n",
       "      <th>Volume</th>\n",
       "    </tr>\n",
       "    <tr>\n",
       "      <th>Datetime</th>\n",
       "      <th></th>\n",
       "      <th></th>\n",
       "      <th></th>\n",
       "      <th></th>\n",
       "      <th></th>\n",
       "      <th></th>\n",
       "    </tr>\n",
       "  </thead>\n",
       "  <tbody>\n",
       "    <tr>\n",
       "      <th>2023-11-16 00:00:00+00:00</th>\n",
       "      <td>1.085658</td>\n",
       "      <td>1.085894</td>\n",
       "      <td>1.085423</td>\n",
       "      <td>1.085894</td>\n",
       "      <td>1.085894</td>\n",
       "      <td>0</td>\n",
       "    </tr>\n",
       "    <tr>\n",
       "      <th>2023-11-16 01:00:00+00:00</th>\n",
       "      <td>1.085658</td>\n",
       "      <td>1.085658</td>\n",
       "      <td>1.084599</td>\n",
       "      <td>1.084716</td>\n",
       "      <td>1.084716</td>\n",
       "      <td>0</td>\n",
       "    </tr>\n",
       "    <tr>\n",
       "      <th>2023-11-16 02:00:00+00:00</th>\n",
       "      <td>1.084599</td>\n",
       "      <td>1.084599</td>\n",
       "      <td>1.083306</td>\n",
       "      <td>1.083658</td>\n",
       "      <td>1.083658</td>\n",
       "      <td>0</td>\n",
       "    </tr>\n",
       "    <tr>\n",
       "      <th>2023-11-16 03:00:00+00:00</th>\n",
       "      <td>1.083541</td>\n",
       "      <td>1.083893</td>\n",
       "      <td>1.083541</td>\n",
       "      <td>1.083541</td>\n",
       "      <td>1.083541</td>\n",
       "      <td>0</td>\n",
       "    </tr>\n",
       "    <tr>\n",
       "      <th>2023-11-16 04:00:00+00:00</th>\n",
       "      <td>1.083541</td>\n",
       "      <td>1.084011</td>\n",
       "      <td>1.083541</td>\n",
       "      <td>1.084011</td>\n",
       "      <td>1.084011</td>\n",
       "      <td>0</td>\n",
       "    </tr>\n",
       "  </tbody>\n",
       "</table>\n",
       "</div>"
      ],
      "text/plain": [
       "                               Open      High       Low     Close  Adj Close  \\\n",
       "Datetime                                                                       \n",
       "2023-11-16 00:00:00+00:00  1.085658  1.085894  1.085423  1.085894   1.085894   \n",
       "2023-11-16 01:00:00+00:00  1.085658  1.085658  1.084599  1.084716   1.084716   \n",
       "2023-11-16 02:00:00+00:00  1.084599  1.084599  1.083306  1.083658   1.083658   \n",
       "2023-11-16 03:00:00+00:00  1.083541  1.083893  1.083541  1.083541   1.083541   \n",
       "2023-11-16 04:00:00+00:00  1.083541  1.084011  1.083541  1.084011   1.084011   \n",
       "\n",
       "                           Volume  \n",
       "Datetime                           \n",
       "2023-11-16 00:00:00+00:00       0  \n",
       "2023-11-16 01:00:00+00:00       0  \n",
       "2023-11-16 02:00:00+00:00       0  \n",
       "2023-11-16 03:00:00+00:00       0  \n",
       "2023-11-16 04:00:00+00:00       0  "
      ]
     },
     "metadata": {},
     "output_type": "display_data"
    }
   ],
   "source": [
    "# Display first few rows\n",
    "display(eurusd.head())"
   ]
  },
  {
   "cell_type": "code",
   "execution_count": 6,
   "metadata": {},
   "outputs": [
    {
     "name": "stdout",
     "output_type": "stream",
     "text": [
      "\n",
      "Dataset Info:\n",
      "<class 'pandas.core.frame.DataFrame'>\n",
      "DatetimeIndex: 6205 entries, 2023-11-16 00:00:00+00:00 to 2024-11-15 22:00:00+00:00\n",
      "Data columns (total 6 columns):\n",
      " #   Column     Non-Null Count  Dtype  \n",
      "---  ------     --------------  -----  \n",
      " 0   Open       6205 non-null   float64\n",
      " 1   High       6205 non-null   float64\n",
      " 2   Low        6205 non-null   float64\n",
      " 3   Close      6205 non-null   float64\n",
      " 4   Adj Close  6205 non-null   float64\n",
      " 5   Volume     6205 non-null   int64  \n",
      "dtypes: float64(5), int64(1)\n",
      "memory usage: 339.3 KB\n",
      "None\n"
     ]
    }
   ],
   "source": [
    "# Basic info about the data\n",
    "print(\"\\nDataset Info:\")\n",
    "print(eurusd.info())"
   ]
  }
 ],
 "metadata": {
  "kernelspec": {
   "display_name": "Python 3",
   "language": "python",
   "name": "python3"
  },
  "language_info": {
   "codemirror_mode": {
    "name": "ipython",
    "version": 3
   },
   "file_extension": ".py",
   "mimetype": "text/x-python",
   "name": "python",
   "nbconvert_exporter": "python",
   "pygments_lexer": "ipython3",
   "version": "3.11.3"
  }
 },
 "nbformat": 4,
 "nbformat_minor": 2
}
